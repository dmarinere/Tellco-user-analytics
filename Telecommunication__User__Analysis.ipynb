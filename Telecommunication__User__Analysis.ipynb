{
 "cells": [
  {
   "cell_type": "markdown",
   "metadata": {},
   "source": [
    "### Importing our Libraries"
   ]
  },
  {
   "cell_type": "code",
   "execution_count": 4,
   "metadata": {},
   "outputs": [],
   "source": [
    "import pandas as pd\n",
    "import numpy as np\n",
    "import matplotlib.pyplot as plt\n",
    "import seaborn as sns\n",
    "plt.style.use('ggplot')"
   ]
  },
  {
   "cell_type": "code",
   "execution_count": null,
   "metadata": {},
   "outputs": [],
   "source": [
    "#setting our columns to display full values\n",
    "pd.set_option('display.max_colwidth', None)\n",
    "pd.set_option('display.max_rows', None)\n",
    "pd.set_option('display.max_columns', None)\n",
    "pd.set_option('display.width', None)\n",
    "pd.set_option('display.float_format', '{:20,.2f}'.format)"
   ]
  },
  {
   "cell_type": "markdown",
   "metadata": {},
   "source": [
    "### Installing important libraries"
   ]
  },
  {
   "cell_type": "code",
   "execution_count": null,
   "metadata": {},
   "outputs": [],
   "source": [
    "#i had to install this to work on this excel file \n",
    "!pip install xlrd"
   ]
  },
  {
   "cell_type": "markdown",
   "metadata": {},
   "source": [
    "### Reading our Dataset and Column Descriptions to our notebook\n"
   ]
  },
  {
   "cell_type": "code",
   "execution_count": 5,
   "metadata": {},
   "outputs": [],
   "source": [
    "#importing the data\n",
    "df = pd.read_excel(\"Week2_challenge_data_source.xlsx\")"
   ]
  },
  {
   "cell_type": "code",
   "execution_count": 6,
   "metadata": {},
   "outputs": [],
   "source": [
    "#importing the data description\n",
    "df_descript = pd.read_csv(\"Field Descriptions - Sheet1.csv\")"
   ]
  },
  {
   "cell_type": "markdown",
   "metadata": {},
   "source": [
    "Removing all columns with space and lowering the  letters of the columns"
   ]
  },
  {
   "cell_type": "code",
   "execution_count": 7,
   "metadata": {},
   "outputs": [],
   "source": [
    "df.columns = [label.replace(' ', '_').lower() for label in df.columns]"
   ]
  },
  {
   "cell_type": "markdown",
   "metadata": {},
   "source": [
    "### Exploring our Datasets"
   ]
  },
  {
   "cell_type": "markdown",
   "metadata": {},
   "source": [
    "I want to try to understand the data here and check for missing values "
   ]
  },
  {
   "cell_type": "markdown",
   "metadata": {},
   "source": [
    "We start with understanding what different columns stand for, here is a view of the different columns meaning this helps others understand this data too "
   ]
  },
  {
   "cell_type": "code",
   "execution_count": 8,
   "metadata": {
    "scrolled": true
   },
   "outputs": [
    {
     "data": {
      "text/html": [
       "<div>\n",
       "<style scoped>\n",
       "    .dataframe tbody tr th:only-of-type {\n",
       "        vertical-align: middle;\n",
       "    }\n",
       "\n",
       "    .dataframe tbody tr th {\n",
       "        vertical-align: top;\n",
       "    }\n",
       "\n",
       "    .dataframe thead th {\n",
       "        text-align: right;\n",
       "    }\n",
       "</style>\n",
       "<table border=\"1\" class=\"dataframe\">\n",
       "  <thead>\n",
       "    <tr style=\"text-align: right;\">\n",
       "      <th></th>\n",
       "      <th>Fields</th>\n",
       "      <th>Description</th>\n",
       "    </tr>\n",
       "  </thead>\n",
       "  <tbody>\n",
       "    <tr>\n",
       "      <th>0</th>\n",
       "      <td>bearer id</td>\n",
       "      <td>xDr session identifier</td>\n",
       "    </tr>\n",
       "    <tr>\n",
       "      <th>1</th>\n",
       "      <td>Dur. (ms)</td>\n",
       "      <td>Total Duration of the xDR (in ms)</td>\n",
       "    </tr>\n",
       "    <tr>\n",
       "      <th>2</th>\n",
       "      <td>Start</td>\n",
       "      <td>Start time of the xDR (first frame timestamp)</td>\n",
       "    </tr>\n",
       "    <tr>\n",
       "      <th>3</th>\n",
       "      <td>Start ms</td>\n",
       "      <td>Milliseconds offset of start time for the xDR ...</td>\n",
       "    </tr>\n",
       "    <tr>\n",
       "      <th>4</th>\n",
       "      <td>End</td>\n",
       "      <td>End time of the xDR (last frame timestamp)</td>\n",
       "    </tr>\n",
       "    <tr>\n",
       "      <th>5</th>\n",
       "      <td>End ms</td>\n",
       "      <td>Milliseconds offset of end time of the xDR (la...</td>\n",
       "    </tr>\n",
       "    <tr>\n",
       "      <th>6</th>\n",
       "      <td>Dur. (s)</td>\n",
       "      <td>Total Duration of the xDR (in s)</td>\n",
       "    </tr>\n",
       "    <tr>\n",
       "      <th>7</th>\n",
       "      <td>IMSI</td>\n",
       "      <td>International Mobile Subscriber Identity</td>\n",
       "    </tr>\n",
       "    <tr>\n",
       "      <th>8</th>\n",
       "      <td>MSISDN/Number</td>\n",
       "      <td>MS International PSTN/ISDN Number of mobile - ...</td>\n",
       "    </tr>\n",
       "    <tr>\n",
       "      <th>9</th>\n",
       "      <td>IMEI</td>\n",
       "      <td>International Mobile Equipment Identity</td>\n",
       "    </tr>\n",
       "    <tr>\n",
       "      <th>10</th>\n",
       "      <td>Last Location Name</td>\n",
       "      <td>User location call name (2G/3G/4G) at the end ...</td>\n",
       "    </tr>\n",
       "    <tr>\n",
       "      <th>11</th>\n",
       "      <td>Avg RTT DL (ms)</td>\n",
       "      <td>Average Round Trip Time measurement Downlink d...</td>\n",
       "    </tr>\n",
       "    <tr>\n",
       "      <th>12</th>\n",
       "      <td>Avg RTT UL (ms)</td>\n",
       "      <td>Average Round Trip Time measurement Uplink dir...</td>\n",
       "    </tr>\n",
       "    <tr>\n",
       "      <th>13</th>\n",
       "      <td>Avg Bearer TP DL (kbps)</td>\n",
       "      <td>Average Bearer Throughput for Downlink (kbps) ...</td>\n",
       "    </tr>\n",
       "    <tr>\n",
       "      <th>14</th>\n",
       "      <td>Avg Bearer TP UL (kbps)</td>\n",
       "      <td>Average Bearer Throughput for uplink (kbps) - ...</td>\n",
       "    </tr>\n",
       "    <tr>\n",
       "      <th>15</th>\n",
       "      <td>TCP DL Retrans. Vol (Bytes)</td>\n",
       "      <td>TCP volume of Downlink packets detected as ret...</td>\n",
       "    </tr>\n",
       "    <tr>\n",
       "      <th>16</th>\n",
       "      <td>TCP UL Retrans. Vol (Bytes)</td>\n",
       "      <td>TCP volume of Uplink packets detected as retra...</td>\n",
       "    </tr>\n",
       "    <tr>\n",
       "      <th>17</th>\n",
       "      <td>DL TP &lt; 50 Kbps (%)</td>\n",
       "      <td>Duration ratio when Bearer Downlink Throughput...</td>\n",
       "    </tr>\n",
       "    <tr>\n",
       "      <th>18</th>\n",
       "      <td>50 Kbps &lt; DL TP &lt; 250 Kbps (%)</td>\n",
       "      <td>Duration ratio when Bearer Downlink Throughput...</td>\n",
       "    </tr>\n",
       "    <tr>\n",
       "      <th>19</th>\n",
       "      <td>250 Kbps &lt; DL TP &lt; 1 Mbps (%)</td>\n",
       "      <td>Duration ratio when Bearer Downlink Throughput...</td>\n",
       "    </tr>\n",
       "    <tr>\n",
       "      <th>20</th>\n",
       "      <td>DL TP &gt; 1 Mbps (%)</td>\n",
       "      <td>Duration ratio when Bearer Downlink Throughput...</td>\n",
       "    </tr>\n",
       "    <tr>\n",
       "      <th>21</th>\n",
       "      <td>UL TP &lt; 10 Kbps (%)</td>\n",
       "      <td>Duration ratio when Bearer Uplink Throughput &lt; ….</td>\n",
       "    </tr>\n",
       "    <tr>\n",
       "      <th>22</th>\n",
       "      <td>10 Kbps &lt; UL TP &lt; 50 Kbps (%)</td>\n",
       "      <td>Duration ratio when Bearer Uplink Throughput r...</td>\n",
       "    </tr>\n",
       "    <tr>\n",
       "      <th>23</th>\n",
       "      <td>50 Kbps &lt; UL TP &lt; 300 Kbps (%)</td>\n",
       "      <td>Duration ratio when Bearer Uplink Throughput r...</td>\n",
       "    </tr>\n",
       "    <tr>\n",
       "      <th>24</th>\n",
       "      <td>UL TP &gt; 300 Kbps (%)</td>\n",
       "      <td>Duration ratio when Bearer Uplink Throughput &gt; ….</td>\n",
       "    </tr>\n",
       "    <tr>\n",
       "      <th>25</th>\n",
       "      <td>HTTP DL (Bytes)</td>\n",
       "      <td>HTTP data volume (in Bytes) received by the MS...</td>\n",
       "    </tr>\n",
       "    <tr>\n",
       "      <th>26</th>\n",
       "      <td>HTTP UL (Bytes)</td>\n",
       "      <td>HTTP data volume (in Bytes) sent by the MS dur...</td>\n",
       "    </tr>\n",
       "    <tr>\n",
       "      <th>27</th>\n",
       "      <td>Activity Duration DL (ms)</td>\n",
       "      <td>Activity Duration for downlink (ms) - excludin...</td>\n",
       "    </tr>\n",
       "    <tr>\n",
       "      <th>28</th>\n",
       "      <td>Activity Duration UL (ms)</td>\n",
       "      <td>Activity Duration for uplink (ms) - excluding ...</td>\n",
       "    </tr>\n",
       "    <tr>\n",
       "      <th>29</th>\n",
       "      <td>Dur. (ms).1</td>\n",
       "      <td>Total Duration of the xDR (in ms)</td>\n",
       "    </tr>\n",
       "    <tr>\n",
       "      <th>30</th>\n",
       "      <td>Handset Manufacturer</td>\n",
       "      <td>Handset manufacturer</td>\n",
       "    </tr>\n",
       "    <tr>\n",
       "      <th>31</th>\n",
       "      <td>Handset Type</td>\n",
       "      <td>Handset type of the mobile device</td>\n",
       "    </tr>\n",
       "    <tr>\n",
       "      <th>32</th>\n",
       "      <td>Nb of sec with 125000B &lt; Vol DL</td>\n",
       "      <td>Number of seconds with IP Volume DL &gt;</td>\n",
       "    </tr>\n",
       "    <tr>\n",
       "      <th>33</th>\n",
       "      <td>Nb of sec with 1250B &lt; Vol UL &lt; 6250B</td>\n",
       "      <td>Number of seconds with IP Volume UL between …</td>\n",
       "    </tr>\n",
       "    <tr>\n",
       "      <th>34</th>\n",
       "      <td>Nb of sec with 31250B &lt; Vol DL &lt; 125000B</td>\n",
       "      <td>Number of seconds with IP Volume DL between …</td>\n",
       "    </tr>\n",
       "    <tr>\n",
       "      <th>35</th>\n",
       "      <td>Nb of sec with 37500B &lt; Vol UL</td>\n",
       "      <td>Number of seconds with IP Volume UL &gt;</td>\n",
       "    </tr>\n",
       "    <tr>\n",
       "      <th>36</th>\n",
       "      <td>Nb of sec with 6250B &lt; Vol DL &lt; 31250B</td>\n",
       "      <td>Number of seconds with IP Volume DL between …</td>\n",
       "    </tr>\n",
       "    <tr>\n",
       "      <th>37</th>\n",
       "      <td>Nb of sec with 6250B &lt; Vol UL &lt; 37500B</td>\n",
       "      <td>Number of seconds with IP Volume UL between …</td>\n",
       "    </tr>\n",
       "    <tr>\n",
       "      <th>38</th>\n",
       "      <td>Nb of sec with Vol DL &lt; 6250B</td>\n",
       "      <td>Number of seconds with IP Volume DL &lt;</td>\n",
       "    </tr>\n",
       "    <tr>\n",
       "      <th>39</th>\n",
       "      <td>Nb of sec with Vol UL &lt; 1250B</td>\n",
       "      <td>Number of seconds with IP Volume UL &lt;</td>\n",
       "    </tr>\n",
       "    <tr>\n",
       "      <th>40</th>\n",
       "      <td>Social Media DL (Bytes)</td>\n",
       "      <td>Social Media data volume (in Bytes) received b...</td>\n",
       "    </tr>\n",
       "    <tr>\n",
       "      <th>41</th>\n",
       "      <td>Social Media UL (Bytes)</td>\n",
       "      <td>Social Media data volume (in Bytes) sent by th...</td>\n",
       "    </tr>\n",
       "    <tr>\n",
       "      <th>42</th>\n",
       "      <td>YouTube DL (Bytes)</td>\n",
       "      <td>YouTube data volume (in Bytes) received by the...</td>\n",
       "    </tr>\n",
       "    <tr>\n",
       "      <th>43</th>\n",
       "      <td>YouTube UL (Bytes)</td>\n",
       "      <td>YouTube data volume (in Bytes) sent by the MS ...</td>\n",
       "    </tr>\n",
       "    <tr>\n",
       "      <th>44</th>\n",
       "      <td>Netflix DL (Bytes)</td>\n",
       "      <td>Netflix data volume (in Bytes) received by the...</td>\n",
       "    </tr>\n",
       "    <tr>\n",
       "      <th>45</th>\n",
       "      <td>Netflix UL (Bytes)</td>\n",
       "      <td>Netflix data volume (in Bytes) sent by the MS ...</td>\n",
       "    </tr>\n",
       "    <tr>\n",
       "      <th>46</th>\n",
       "      <td>Google DL (Bytes)</td>\n",
       "      <td>Google data volume (in Bytes) Received by the ...</td>\n",
       "    </tr>\n",
       "    <tr>\n",
       "      <th>47</th>\n",
       "      <td>Google UL (Bytes)</td>\n",
       "      <td>Google data volume (in Bytes) sent by the MS d...</td>\n",
       "    </tr>\n",
       "    <tr>\n",
       "      <th>48</th>\n",
       "      <td>Email DL (Bytes)</td>\n",
       "      <td>Email data volume (in Bytes) Received by the M...</td>\n",
       "    </tr>\n",
       "    <tr>\n",
       "      <th>49</th>\n",
       "      <td>Email UL (Bytes)</td>\n",
       "      <td>Email data volume (in Bytes) sent by the MS du...</td>\n",
       "    </tr>\n",
       "    <tr>\n",
       "      <th>50</th>\n",
       "      <td>Gaming DL (Bytes)</td>\n",
       "      <td>Gaming data volume (in Bytes) Received by the ...</td>\n",
       "    </tr>\n",
       "    <tr>\n",
       "      <th>51</th>\n",
       "      <td>Gaming UL (Bytes)</td>\n",
       "      <td>Gaming data volume (in Bytes) sent by the MS d...</td>\n",
       "    </tr>\n",
       "    <tr>\n",
       "      <th>52</th>\n",
       "      <td>Other DL</td>\n",
       "      <td>Other data volume (in Bytes) received by the M...</td>\n",
       "    </tr>\n",
       "    <tr>\n",
       "      <th>53</th>\n",
       "      <td>Other UL</td>\n",
       "      <td>Other data volume (in Bytes) sent by the MS du...</td>\n",
       "    </tr>\n",
       "    <tr>\n",
       "      <th>54</th>\n",
       "      <td>Total DL (Bytes)</td>\n",
       "      <td>Data volume (in Bytes) received by the MS duri...</td>\n",
       "    </tr>\n",
       "    <tr>\n",
       "      <th>55</th>\n",
       "      <td>Total UL (Bytes)</td>\n",
       "      <td>Data volume (in Bytes) sent by the MS during t...</td>\n",
       "    </tr>\n",
       "  </tbody>\n",
       "</table>\n",
       "</div>"
      ],
      "text/plain": [
       "                                      Fields  \\\n",
       "0                                  bearer id   \n",
       "1                                  Dur. (ms)   \n",
       "2                                      Start   \n",
       "3                                   Start ms   \n",
       "4                                        End   \n",
       "5                                     End ms   \n",
       "6                                   Dur. (s)   \n",
       "7                                       IMSI   \n",
       "8                              MSISDN/Number   \n",
       "9                                       IMEI   \n",
       "10                        Last Location Name   \n",
       "11                           Avg RTT DL (ms)   \n",
       "12                           Avg RTT UL (ms)   \n",
       "13                   Avg Bearer TP DL (kbps)   \n",
       "14                   Avg Bearer TP UL (kbps)   \n",
       "15               TCP DL Retrans. Vol (Bytes)   \n",
       "16               TCP UL Retrans. Vol (Bytes)   \n",
       "17                       DL TP < 50 Kbps (%)   \n",
       "18            50 Kbps < DL TP < 250 Kbps (%)   \n",
       "19             250 Kbps < DL TP < 1 Mbps (%)   \n",
       "20                        DL TP > 1 Mbps (%)   \n",
       "21                       UL TP < 10 Kbps (%)   \n",
       "22             10 Kbps < UL TP < 50 Kbps (%)   \n",
       "23            50 Kbps < UL TP < 300 Kbps (%)   \n",
       "24                      UL TP > 300 Kbps (%)   \n",
       "25                           HTTP DL (Bytes)   \n",
       "26                           HTTP UL (Bytes)   \n",
       "27                 Activity Duration DL (ms)   \n",
       "28                 Activity Duration UL (ms)   \n",
       "29                               Dur. (ms).1   \n",
       "30                      Handset Manufacturer   \n",
       "31                              Handset Type   \n",
       "32           Nb of sec with 125000B < Vol DL   \n",
       "33     Nb of sec with 1250B < Vol UL < 6250B   \n",
       "34  Nb of sec with 31250B < Vol DL < 125000B   \n",
       "35            Nb of sec with 37500B < Vol UL   \n",
       "36    Nb of sec with 6250B < Vol DL < 31250B   \n",
       "37    Nb of sec with 6250B < Vol UL < 37500B   \n",
       "38             Nb of sec with Vol DL < 6250B   \n",
       "39             Nb of sec with Vol UL < 1250B   \n",
       "40                   Social Media DL (Bytes)   \n",
       "41                   Social Media UL (Bytes)   \n",
       "42                        YouTube DL (Bytes)   \n",
       "43                        YouTube UL (Bytes)   \n",
       "44                        Netflix DL (Bytes)   \n",
       "45                        Netflix UL (Bytes)   \n",
       "46                         Google DL (Bytes)   \n",
       "47                         Google UL (Bytes)   \n",
       "48                          Email DL (Bytes)   \n",
       "49                          Email UL (Bytes)   \n",
       "50                         Gaming DL (Bytes)   \n",
       "51                         Gaming UL (Bytes)   \n",
       "52                                  Other DL   \n",
       "53                                  Other UL   \n",
       "54                          Total DL (Bytes)   \n",
       "55                          Total UL (Bytes)   \n",
       "\n",
       "                                          Description  \n",
       "0                              xDr session identifier  \n",
       "1                   Total Duration of the xDR (in ms)  \n",
       "2       Start time of the xDR (first frame timestamp)  \n",
       "3   Milliseconds offset of start time for the xDR ...  \n",
       "4          End time of the xDR (last frame timestamp)  \n",
       "5   Milliseconds offset of end time of the xDR (la...  \n",
       "6                    Total Duration of the xDR (in s)  \n",
       "7            International Mobile Subscriber Identity  \n",
       "8   MS International PSTN/ISDN Number of mobile - ...  \n",
       "9             International Mobile Equipment Identity  \n",
       "10  User location call name (2G/3G/4G) at the end ...  \n",
       "11  Average Round Trip Time measurement Downlink d...  \n",
       "12  Average Round Trip Time measurement Uplink dir...  \n",
       "13  Average Bearer Throughput for Downlink (kbps) ...  \n",
       "14  Average Bearer Throughput for uplink (kbps) - ...  \n",
       "15  TCP volume of Downlink packets detected as ret...  \n",
       "16  TCP volume of Uplink packets detected as retra...  \n",
       "17  Duration ratio when Bearer Downlink Throughput...  \n",
       "18  Duration ratio when Bearer Downlink Throughput...  \n",
       "19  Duration ratio when Bearer Downlink Throughput...  \n",
       "20  Duration ratio when Bearer Downlink Throughput...  \n",
       "21  Duration ratio when Bearer Uplink Throughput < ….  \n",
       "22  Duration ratio when Bearer Uplink Throughput r...  \n",
       "23  Duration ratio when Bearer Uplink Throughput r...  \n",
       "24  Duration ratio when Bearer Uplink Throughput > ….  \n",
       "25  HTTP data volume (in Bytes) received by the MS...  \n",
       "26  HTTP data volume (in Bytes) sent by the MS dur...  \n",
       "27  Activity Duration for downlink (ms) - excludin...  \n",
       "28  Activity Duration for uplink (ms) - excluding ...  \n",
       "29                  Total Duration of the xDR (in ms)  \n",
       "30                              Handset manufacturer   \n",
       "31                  Handset type of the mobile device  \n",
       "32              Number of seconds with IP Volume DL >  \n",
       "33      Number of seconds with IP Volume UL between …  \n",
       "34      Number of seconds with IP Volume DL between …  \n",
       "35              Number of seconds with IP Volume UL >  \n",
       "36      Number of seconds with IP Volume DL between …  \n",
       "37      Number of seconds with IP Volume UL between …  \n",
       "38              Number of seconds with IP Volume DL <  \n",
       "39              Number of seconds with IP Volume UL <  \n",
       "40  Social Media data volume (in Bytes) received b...  \n",
       "41  Social Media data volume (in Bytes) sent by th...  \n",
       "42  YouTube data volume (in Bytes) received by the...  \n",
       "43  YouTube data volume (in Bytes) sent by the MS ...  \n",
       "44  Netflix data volume (in Bytes) received by the...  \n",
       "45  Netflix data volume (in Bytes) sent by the MS ...  \n",
       "46  Google data volume (in Bytes) Received by the ...  \n",
       "47  Google data volume (in Bytes) sent by the MS d...  \n",
       "48  Email data volume (in Bytes) Received by the M...  \n",
       "49  Email data volume (in Bytes) sent by the MS du...  \n",
       "50  Gaming data volume (in Bytes) Received by the ...  \n",
       "51  Gaming data volume (in Bytes) sent by the MS d...  \n",
       "52  Other data volume (in Bytes) received by the M...  \n",
       "53  Other data volume (in Bytes) sent by the MS du...  \n",
       "54  Data volume (in Bytes) received by the MS duri...  \n",
       "55  Data volume (in Bytes) sent by the MS during t...  "
      ]
     },
     "execution_count": 8,
     "metadata": {},
     "output_type": "execute_result"
    }
   ],
   "source": [
    "df_descript"
   ]
  },
  {
   "cell_type": "markdown",
   "metadata": {},
   "source": [
    "This shows us the different data types and number of non-null values in each columns"
   ]
  },
  {
   "cell_type": "code",
   "execution_count": 9,
   "metadata": {
    "scrolled": true
   },
   "outputs": [
    {
     "name": "stdout",
     "output_type": "stream",
     "text": [
      "<class 'pandas.core.frame.DataFrame'>\n",
      "RangeIndex: 150001 entries, 0 to 150000\n",
      "Data columns (total 55 columns):\n",
      " #   Column                                    Non-Null Count   Dtype         \n",
      "---  ------                                    --------------   -----         \n",
      " 0   bearer_id                                 150001 non-null  object        \n",
      " 1   start                                     150000 non-null  datetime64[ns]\n",
      " 2   start_ms                                  150000 non-null  float64       \n",
      " 3   end                                       150000 non-null  datetime64[ns]\n",
      " 4   end_ms                                    150000 non-null  float64       \n",
      " 5   dur._(ms)                                 150000 non-null  float64       \n",
      " 6   imsi                                      149431 non-null  float64       \n",
      " 7   msisdn/number                             148935 non-null  float64       \n",
      " 8   imei                                      149429 non-null  float64       \n",
      " 9   last_location_name                        148848 non-null  object        \n",
      " 10  avg_rtt_dl_(ms)                           122172 non-null  float64       \n",
      " 11  avg_rtt_ul_(ms)                           122189 non-null  float64       \n",
      " 12  avg_bearer_tp_dl_(kbps)                   150000 non-null  float64       \n",
      " 13  avg_bearer_tp_ul_(kbps)                   150000 non-null  float64       \n",
      " 14  tcp_dl_retrans._vol_(bytes)               61855 non-null   float64       \n",
      " 15  tcp_ul_retrans._vol_(bytes)               53352 non-null   float64       \n",
      " 16  dl_tp_<_50_kbps_(%)                       149247 non-null  float64       \n",
      " 17  50_kbps_<_dl_tp_<_250_kbps_(%)            149247 non-null  float64       \n",
      " 18  250_kbps_<_dl_tp_<_1_mbps_(%)             149247 non-null  float64       \n",
      " 19  dl_tp_>_1_mbps_(%)                        149247 non-null  float64       \n",
      " 20  ul_tp_<_10_kbps_(%)                       149209 non-null  float64       \n",
      " 21  10_kbps_<_ul_tp_<_50_kbps_(%)             149209 non-null  float64       \n",
      " 22  50_kbps_<_ul_tp_<_300_kbps_(%)            149209 non-null  float64       \n",
      " 23  ul_tp_>_300_kbps_(%)                      149209 non-null  float64       \n",
      " 24  http_dl_(bytes)                           68527 non-null   float64       \n",
      " 25  http_ul_(bytes)                           68191 non-null   float64       \n",
      " 26  activity_duration_dl_(ms)                 150000 non-null  float64       \n",
      " 27  activity_duration_ul_(ms)                 150000 non-null  float64       \n",
      " 28  dur._(ms).1                               150000 non-null  float64       \n",
      " 29  handset_manufacturer                      149429 non-null  object        \n",
      " 30  handset_type                              149429 non-null  object        \n",
      " 31  nb_of_sec_with_125000b_<_vol_dl           52463 non-null   float64       \n",
      " 32  nb_of_sec_with_1250b_<_vol_ul_<_6250b     57107 non-null   float64       \n",
      " 33  nb_of_sec_with_31250b_<_vol_dl_<_125000b  56415 non-null   float64       \n",
      " 34  nb_of_sec_with_37500b_<_vol_ul            19747 non-null   float64       \n",
      " 35  nb_of_sec_with_6250b_<_vol_dl_<_31250b    61684 non-null   float64       \n",
      " 36  nb_of_sec_with_6250b_<_vol_ul_<_37500b    38158 non-null   float64       \n",
      " 37  nb_of_sec_with_vol_dl_<_6250b             149246 non-null  float64       \n",
      " 38  nb_of_sec_with_vol_ul_<_1250b             149208 non-null  float64       \n",
      " 39  social_media_dl_(bytes)                   150001 non-null  float64       \n",
      " 40  social_media_ul_(bytes)                   150001 non-null  float64       \n",
      " 41  google_dl_(bytes)                         150001 non-null  float64       \n",
      " 42  google_ul_(bytes)                         150001 non-null  float64       \n",
      " 43  email_dl_(bytes)                          150001 non-null  float64       \n",
      " 44  email_ul_(bytes)                          150001 non-null  float64       \n",
      " 45  youtube_dl_(bytes)                        150001 non-null  float64       \n",
      " 46  youtube_ul_(bytes)                        150001 non-null  float64       \n",
      " 47  netflix_dl_(bytes)                        150001 non-null  float64       \n",
      " 48  netflix_ul_(bytes)                        150001 non-null  float64       \n",
      " 49  gaming_dl_(bytes)                         150001 non-null  float64       \n",
      " 50  gaming_ul_(bytes)                         150001 non-null  float64       \n",
      " 51  other_dl_(bytes)                          150001 non-null  float64       \n",
      " 52  other_ul_(bytes)                          150001 non-null  float64       \n",
      " 53  total_ul_(bytes)                          150000 non-null  float64       \n",
      " 54  total_dl_(bytes)                          150000 non-null  float64       \n",
      "dtypes: datetime64[ns](2), float64(49), object(4)\n",
      "memory usage: 62.9+ MB\n"
     ]
    }
   ],
   "source": [
    "df.info()"
   ]
  },
  {
   "cell_type": "markdown",
   "metadata": {},
   "source": [
    "This shows us the Numbers of Rows and Columns in our dataset "
   ]
  },
  {
   "cell_type": "code",
   "execution_count": 10,
   "metadata": {
    "scrolled": true
   },
   "outputs": [
    {
     "data": {
      "text/plain": [
       "(150001, 55)"
      ]
     },
     "execution_count": 10,
     "metadata": {},
     "output_type": "execute_result"
    }
   ],
   "source": [
    "df.shape "
   ]
  },
  {
   "cell_type": "markdown",
   "metadata": {},
   "source": [
    "The numbers of unique values in each columns are shown below to understand a little bit, how the data is distributed "
   ]
  },
  {
   "cell_type": "code",
   "execution_count": 11,
   "metadata": {
    "scrolled": true
   },
   "outputs": [
    {
     "data": {
      "text/plain": [
       "total_dl_(bytes)                            149987\n",
       "other_dl_(bytes)                            149986\n",
       "gaming_dl_(bytes)                           149983\n",
       "total_ul_(bytes)                            149728\n",
       "youtube_dl_(bytes)                          149547\n",
       "netflix_dl_(bytes)                          149518\n",
       "netflix_ul_(bytes)                          149490\n",
       "youtube_ul_(bytes)                          149477\n",
       "gaming_ul_(bytes)                           149316\n",
       "other_ul_(bytes)                            149284\n",
       "google_dl_(bytes)                           149024\n",
       "google_ul_(bytes)                           147267\n",
       "email_dl_(bytes)                            146916\n",
       "social_media_dl_(bytes)                     146856\n",
       "email_ul_(bytes)                            138699\n",
       "bearer_id                                   134709\n",
       "dur._(ms).1                                 122871\n",
       "start                                       111881\n",
       "imei                                        107270\n",
       "imsi                                        107265\n",
       "msisdn/number                               106856\n",
       "activity_duration_ul_(ms)                   106292\n",
       "activity_duration_dl_(ms)                   102560\n",
       "end                                         100962\n",
       "dur._(ms)                                    89525\n",
       "http_dl_(bytes)                              63527\n",
       "http_ul_(bytes)                              59942\n",
       "social_media_ul_(bytes)                      59078\n",
       "tcp_dl_retrans._vol_(bytes)                  54399\n",
       "last_location_name                           45547\n",
       "avg_bearer_tp_dl_(kbps)                      41753\n",
       "tcp_ul_retrans._vol_(bytes)                  35120\n",
       "nb_of_sec_with_vol_ul_<_1250b                22976\n",
       "nb_of_sec_with_vol_dl_<_6250b                22270\n",
       "avg_bearer_tp_ul_(kbps)                      14528\n",
       "nb_of_sec_with_125000b_<_vol_dl               6458\n",
       "nb_of_sec_with_6250b_<_vol_dl_<_31250b        6172\n",
       "nb_of_sec_with_31250b_<_vol_dl_<_125000b      5755\n",
       "nb_of_sec_with_1250b_<_vol_ul_<_6250b         3398\n",
       "avg_rtt_dl_(ms)                               2130\n",
       "nb_of_sec_with_6250b_<_vol_ul_<_37500b        1710\n",
       "handset_type                                  1396\n",
       "nb_of_sec_with_37500b_<_vol_ul                1104\n",
       "start_ms                                      1000\n",
       "end_ms                                        1000\n",
       "avg_rtt_ul_(ms)                                722\n",
       "handset_manufacturer                           170\n",
       "dl_tp_<_50_kbps_(%)                            100\n",
       "ul_tp_<_10_kbps_(%)                             98\n",
       "10_kbps_<_ul_tp_<_50_kbps_(%)                   85\n",
       "dl_tp_>_1_mbps_(%)                              85\n",
       "50_kbps_<_dl_tp_<_250_kbps_(%)                  84\n",
       "250_kbps_<_dl_tp_<_1_mbps_(%)                   73\n",
       "50_kbps_<_ul_tp_<_300_kbps_(%)                  68\n",
       "ul_tp_>_300_kbps_(%)                            63\n",
       "dtype: int64"
      ]
     },
     "execution_count": 11,
     "metadata": {},
     "output_type": "execute_result"
    }
   ],
   "source": [
    "df.nunique().sort_values(ascending=False)"
   ]
  },
  {
   "cell_type": "markdown",
   "metadata": {},
   "source": [
    "### Analysis of Null Values in our dataset"
   ]
  },
  {
   "cell_type": "markdown",
   "metadata": {},
   "source": [
    "I want to analyze my dataset to understand where the null values are and how to deal with them "
   ]
  },
  {
   "cell_type": "code",
   "execution_count": 12,
   "metadata": {},
   "outputs": [
    {
     "data": {
      "text/html": [
       "<div>\n",
       "<style scoped>\n",
       "    .dataframe tbody tr th:only-of-type {\n",
       "        vertical-align: middle;\n",
       "    }\n",
       "\n",
       "    .dataframe tbody tr th {\n",
       "        vertical-align: top;\n",
       "    }\n",
       "\n",
       "    .dataframe thead th {\n",
       "        text-align: right;\n",
       "    }\n",
       "</style>\n",
       "<table border=\"1\" class=\"dataframe\">\n",
       "  <thead>\n",
       "    <tr style=\"text-align: right;\">\n",
       "      <th></th>\n",
       "      <th>0</th>\n",
       "    </tr>\n",
       "  </thead>\n",
       "  <tbody>\n",
       "    <tr>\n",
       "      <th>nb_of_sec_with_37500b_&lt;_vol_ul</th>\n",
       "      <td>86.835421</td>\n",
       "    </tr>\n",
       "    <tr>\n",
       "      <th>nb_of_sec_with_6250b_&lt;_vol_ul_&lt;_37500b</th>\n",
       "      <td>74.561503</td>\n",
       "    </tr>\n",
       "    <tr>\n",
       "      <th>nb_of_sec_with_125000b_&lt;_vol_dl</th>\n",
       "      <td>65.024900</td>\n",
       "    </tr>\n",
       "    <tr>\n",
       "      <th>tcp_ul_retrans._vol_(bytes)</th>\n",
       "      <td>64.432237</td>\n",
       "    </tr>\n",
       "    <tr>\n",
       "      <th>nb_of_sec_with_31250b_&lt;_vol_dl_&lt;_125000b</th>\n",
       "      <td>62.390251</td>\n",
       "    </tr>\n",
       "    <tr>\n",
       "      <th>nb_of_sec_with_1250b_&lt;_vol_ul_&lt;_6250b</th>\n",
       "      <td>61.928920</td>\n",
       "    </tr>\n",
       "    <tr>\n",
       "      <th>nb_of_sec_with_6250b_&lt;_vol_dl_&lt;_31250b</th>\n",
       "      <td>58.877607</td>\n",
       "    </tr>\n",
       "    <tr>\n",
       "      <th>tcp_dl_retrans._vol_(bytes)</th>\n",
       "      <td>58.763608</td>\n",
       "    </tr>\n",
       "    <tr>\n",
       "      <th>http_ul_(bytes)</th>\n",
       "      <td>54.539636</td>\n",
       "    </tr>\n",
       "    <tr>\n",
       "      <th>http_dl_(bytes)</th>\n",
       "      <td>54.315638</td>\n",
       "    </tr>\n",
       "  </tbody>\n",
       "</table>\n",
       "</div>"
      ],
      "text/plain": [
       "                                                  0\n",
       "nb_of_sec_with_37500b_<_vol_ul            86.835421\n",
       "nb_of_sec_with_6250b_<_vol_ul_<_37500b    74.561503\n",
       "nb_of_sec_with_125000b_<_vol_dl           65.024900\n",
       "tcp_ul_retrans._vol_(bytes)               64.432237\n",
       "nb_of_sec_with_31250b_<_vol_dl_<_125000b  62.390251\n",
       "nb_of_sec_with_1250b_<_vol_ul_<_6250b     61.928920\n",
       "nb_of_sec_with_6250b_<_vol_dl_<_31250b    58.877607\n",
       "tcp_dl_retrans._vol_(bytes)               58.763608\n",
       "http_ul_(bytes)                           54.539636\n",
       "http_dl_(bytes)                           54.315638"
      ]
     },
     "execution_count": 12,
     "metadata": {},
     "output_type": "execute_result"
    }
   ],
   "source": [
    "#i am trying to understanding the null values here by analyzing the percentage of missing values in each columns\n",
    "null = df.isna().sum().sort_values(ascending = False)\n",
    "null_per = (null/150001) * 100\n",
    "null_perc = pd.DataFrame(null_per)\n",
    "null_perc.head(10)"
   ]
  },
  {
   "cell_type": "markdown",
   "metadata": {},
   "source": [
    "I have noticed the columns with a lot of missing values and would decide now how to impute this, i would be mean as already stated for numerical columns and median to replace null for Categorical columns "
   ]
  },
  {
   "cell_type": "markdown",
   "metadata": {},
   "source": [
    "I would start with getting all the missing numerical values in our missing data, i would turn all the values in null percent to a list of columns  "
   ]
  },
  {
   "cell_type": "code",
   "execution_count": 13,
   "metadata": {},
   "outputs": [],
   "source": [
    "null_perc.reset_index(inplace=True)\n",
    "missing = list(null_perc['index'])"
   ]
  },
  {
   "cell_type": "markdown",
   "metadata": {},
   "source": [
    "We would append numerical values that are missing to one list and the categorical columns to another list"
   ]
  },
  {
   "cell_type": "code",
   "execution_count": 14,
   "metadata": {
    "scrolled": false
   },
   "outputs": [],
   "source": [
    "numerics = ['int16', 'int32', 'int64', 'float16', 'float32', 'float64']\n",
    "numcols =[]\n",
    "catcols = []\n",
    "for data in missing:\n",
    "    if df[data].dtypes in numerics:\n",
    "        numcols.append(data)\n",
    "    else:\n",
    "        catcols.append(data)    "
   ]
  },
  {
   "cell_type": "markdown",
   "metadata": {},
   "source": [
    "There are some values that are numerical but are not supposed to be like the IMEI, IMSI,MSISDN we would remove them from our list of numerical values"
   ]
  },
  {
   "cell_type": "markdown",
   "metadata": {},
   "source": [
    "we would create a new list for the categorical values remove them from the numerical list and add to the categorical columns"
   ]
  },
  {
   "cell_type": "code",
   "execution_count": 15,
   "metadata": {},
   "outputs": [],
   "source": [
    "catcoladd =['imei', 'imsi','msisdn/number']\n",
    "for c in catcoladd:\n",
    "    numcols.remove(c)"
   ]
  },
  {
   "cell_type": "code",
   "execution_count": 16,
   "metadata": {},
   "outputs": [],
   "source": [
    "catcols.extend(catcoladd)"
   ]
  },
  {
   "cell_type": "markdown",
   "metadata": {},
   "source": [
    "We would start with filling the missing values in the numerical column with the mean of the column"
   ]
  },
  {
   "cell_type": "code",
   "execution_count": 17,
   "metadata": {},
   "outputs": [],
   "source": [
    "for col in numcols:\n",
    "    df[col] = df[col].fillna(df[col].mean())"
   ]
  },
  {
   "cell_type": "markdown",
   "metadata": {},
   "source": [
    "Confirm if what we did work"
   ]
  },
  {
   "cell_type": "code",
   "execution_count": 18,
   "metadata": {},
   "outputs": [
    {
     "data": {
      "text/plain": [
       "nb_of_sec_with_37500b_<_vol_ul              False\n",
       "nb_of_sec_with_6250b_<_vol_ul_<_37500b      False\n",
       "nb_of_sec_with_125000b_<_vol_dl             False\n",
       "tcp_ul_retrans._vol_(bytes)                 False\n",
       "nb_of_sec_with_31250b_<_vol_dl_<_125000b    False\n",
       "nb_of_sec_with_1250b_<_vol_ul_<_6250b       False\n",
       "nb_of_sec_with_6250b_<_vol_dl_<_31250b      False\n",
       "tcp_dl_retrans._vol_(bytes)                 False\n",
       "http_ul_(bytes)                             False\n",
       "http_dl_(bytes)                             False\n",
       "avg_rtt_dl_(ms)                             False\n",
       "avg_rtt_ul_(ms)                             False\n",
       "nb_of_sec_with_vol_ul_<_1250b               False\n",
       "10_kbps_<_ul_tp_<_50_kbps_(%)               False\n",
       "ul_tp_<_10_kbps_(%)                         False\n",
       "ul_tp_>_300_kbps_(%)                        False\n",
       "50_kbps_<_ul_tp_<_300_kbps_(%)              False\n",
       "nb_of_sec_with_vol_dl_<_6250b               False\n",
       "50_kbps_<_dl_tp_<_250_kbps_(%)              False\n",
       "dl_tp_<_50_kbps_(%)                         False\n",
       "dl_tp_>_1_mbps_(%)                          False\n",
       "250_kbps_<_dl_tp_<_1_mbps_(%)               False\n",
       "avg_bearer_tp_ul_(kbps)                     False\n",
       "avg_bearer_tp_dl_(kbps)                     False\n",
       "dur._(ms)                                   False\n",
       "end_ms                                      False\n",
       "start_ms                                    False\n",
       "total_dl_(bytes)                            False\n",
       "activity_duration_ul_(ms)                   False\n",
       "activity_duration_dl_(ms)                   False\n",
       "dur._(ms).1                                 False\n",
       "total_ul_(bytes)                            False\n",
       "youtube_ul_(bytes)                          False\n",
       "other_ul_(bytes)                            False\n",
       "other_dl_(bytes)                            False\n",
       "gaming_ul_(bytes)                           False\n",
       "gaming_dl_(bytes)                           False\n",
       "netflix_ul_(bytes)                          False\n",
       "netflix_dl_(bytes)                          False\n",
       "youtube_dl_(bytes)                          False\n",
       "email_ul_(bytes)                            False\n",
       "email_dl_(bytes)                            False\n",
       "google_ul_(bytes)                           False\n",
       "google_dl_(bytes)                           False\n",
       "social_media_ul_(bytes)                     False\n",
       "social_media_dl_(bytes)                     False\n",
       "dtype: bool"
      ]
     },
     "execution_count": 18,
     "metadata": {},
     "output_type": "execute_result"
    }
   ],
   "source": [
    "df[numcols].isnull().any()"
   ]
  },
  {
   "cell_type": "markdown",
   "metadata": {},
   "source": [
    "Next we would try to fill the categorical variables by the mode since we cannot use mean here"
   ]
  },
  {
   "cell_type": "markdown",
   "metadata": {},
   "source": [
    "we would have to convert all the new columns we added to object data type"
   ]
  },
  {
   "cell_type": "code",
   "execution_count": 32,
   "metadata": {},
   "outputs": [],
   "source": [
    "df[catcoladd] = df[catcoladd].astype('object')"
   ]
  },
  {
   "cell_type": "code",
   "execution_count": 34,
   "metadata": {},
   "outputs": [],
   "source": [
    "for col in catcols:\n",
    "    df[col] = df[col].fillna(df[col].mode()[0])"
   ]
  },
  {
   "cell_type": "markdown",
   "metadata": {},
   "source": [
    "we would check all our categorical column to see if what we did worked "
   ]
  },
  {
   "cell_type": "code",
   "execution_count": 30,
   "metadata": {},
   "outputs": [
    {
     "data": {
      "text/plain": [
       "last_location_name      False\n",
       "handset_type            False\n",
       "handset_manufacturer    False\n",
       "end                     False\n",
       "start                   False\n",
       "bearer_id               False\n",
       "imei                    False\n",
       "imsi                    False\n",
       "msisdn/number           False\n",
       "dtype: bool"
      ]
     },
     "execution_count": 30,
     "metadata": {},
     "output_type": "execute_result"
    }
   ],
   "source": [
    "df[catcols].isnull().any()"
   ]
  },
  {
   "cell_type": "markdown",
   "metadata": {},
   "source": [
    "### User Overview Analysis"
   ]
  },
  {
   "cell_type": "markdown",
   "metadata": {},
   "source": [
    "#### Identifying the top 10 handsets used by the customers."
   ]
  },
  {
   "cell_type": "code",
   "execution_count": 40,
   "metadata": {},
   "outputs": [
    {
     "data": {
      "text/html": [
       "<div>\n",
       "<style scoped>\n",
       "    .dataframe tbody tr th:only-of-type {\n",
       "        vertical-align: middle;\n",
       "    }\n",
       "\n",
       "    .dataframe tbody tr th {\n",
       "        vertical-align: top;\n",
       "    }\n",
       "\n",
       "    .dataframe thead th {\n",
       "        text-align: right;\n",
       "    }\n",
       "</style>\n",
       "<table border=\"1\" class=\"dataframe\">\n",
       "  <thead>\n",
       "    <tr style=\"text-align: right;\">\n",
       "      <th></th>\n",
       "      <th>Handset Type</th>\n",
       "      <th>Count</th>\n",
       "    </tr>\n",
       "  </thead>\n",
       "  <tbody>\n",
       "    <tr>\n",
       "      <th>0</th>\n",
       "      <td>Huawei B528S-23A</td>\n",
       "      <td>20324</td>\n",
       "    </tr>\n",
       "    <tr>\n",
       "      <th>1</th>\n",
       "      <td>Apple iPhone 6S (A1688)</td>\n",
       "      <td>9419</td>\n",
       "    </tr>\n",
       "    <tr>\n",
       "      <th>2</th>\n",
       "      <td>Apple iPhone 6 (A1586)</td>\n",
       "      <td>9023</td>\n",
       "    </tr>\n",
       "    <tr>\n",
       "      <th>3</th>\n",
       "      <td>undefined</td>\n",
       "      <td>8987</td>\n",
       "    </tr>\n",
       "    <tr>\n",
       "      <th>4</th>\n",
       "      <td>Apple iPhone 7 (A1778)</td>\n",
       "      <td>6326</td>\n",
       "    </tr>\n",
       "    <tr>\n",
       "      <th>5</th>\n",
       "      <td>Apple iPhone Se (A1723)</td>\n",
       "      <td>5187</td>\n",
       "    </tr>\n",
       "    <tr>\n",
       "      <th>6</th>\n",
       "      <td>Apple iPhone 8 (A1905)</td>\n",
       "      <td>4993</td>\n",
       "    </tr>\n",
       "    <tr>\n",
       "      <th>7</th>\n",
       "      <td>Apple iPhone Xr (A2105)</td>\n",
       "      <td>4568</td>\n",
       "    </tr>\n",
       "    <tr>\n",
       "      <th>8</th>\n",
       "      <td>Samsung Galaxy S8 (Sm-G950F)</td>\n",
       "      <td>4520</td>\n",
       "    </tr>\n",
       "    <tr>\n",
       "      <th>9</th>\n",
       "      <td>Apple iPhone X (A1901)</td>\n",
       "      <td>3813</td>\n",
       "    </tr>\n",
       "  </tbody>\n",
       "</table>\n",
       "</div>"
      ],
      "text/plain": [
       "                   Handset Type  Count\n",
       "0              Huawei B528S-23A  20324\n",
       "1       Apple iPhone 6S (A1688)   9419\n",
       "2        Apple iPhone 6 (A1586)   9023\n",
       "3                     undefined   8987\n",
       "4        Apple iPhone 7 (A1778)   6326\n",
       "5       Apple iPhone Se (A1723)   5187\n",
       "6        Apple iPhone 8 (A1905)   4993\n",
       "7       Apple iPhone Xr (A2105)   4568\n",
       "8  Samsung Galaxy S8 (Sm-G950F)   4520\n",
       "9        Apple iPhone X (A1901)   3813"
      ]
     },
     "execution_count": 40,
     "metadata": {},
     "output_type": "execute_result"
    }
   ],
   "source": [
    "top_ten = df['handset_type'].value_counts(ascending = False).head(10).reset_index()\n",
    "top_ten = top_ten.rename(columns={'index':\"Handset Type\",\"handset_type\":\"Count\"})\n",
    "top_ten"
   ]
  },
  {
   "cell_type": "code",
   "execution_count": 46,
   "metadata": {
    "scrolled": true
   },
   "outputs": [
    {
     "data": {
      "image/png": "[encoded data removed]",
      "text/plain": [
       "<Figure size 1440x720 with 1 Axes>"
      ]
     },
     "metadata": {},
     "output_type": "display_data"
    }
   ],
   "source": [
    "plt.figure(figsize=(20,10))\n",
    "sns.barplot(x = top_ten['Handset Type'], y = top_ten['Count'])\n",
    "plt.xlabel('Name of handsets')\n",
    "plt.xticks(rotation=45)\n",
    "plt.title('A barplot showing the top ten handset types');"
   ]
  },
  {
   "cell_type": "markdown",
   "metadata": {},
   "source": [
    "#### Top 3 Handset Manufacturer"
   ]
  },
  {
   "cell_type": "code",
   "execution_count": 51,
   "metadata": {},
   "outputs": [
    {
     "data": {
      "text/html": [
       "<div>\n",
       "<style scoped>\n",
       "    .dataframe tbody tr th:only-of-type {\n",
       "        vertical-align: middle;\n",
       "    }\n",
       "\n",
       "    .dataframe tbody tr th {\n",
       "        vertical-align: top;\n",
       "    }\n",
       "\n",
       "    .dataframe thead th {\n",
       "        text-align: right;\n",
       "    }\n",
       "</style>\n",
       "<table border=\"1\" class=\"dataframe\">\n",
       "  <thead>\n",
       "    <tr style=\"text-align: right;\">\n",
       "      <th></th>\n",
       "      <th>Handset Manufacturer</th>\n",
       "      <th>Count</th>\n",
       "    </tr>\n",
       "  </thead>\n",
       "  <tbody>\n",
       "    <tr>\n",
       "      <th>0</th>\n",
       "      <td>Apple</td>\n",
       "      <td>60137</td>\n",
       "    </tr>\n",
       "    <tr>\n",
       "      <th>1</th>\n",
       "      <td>Samsung</td>\n",
       "      <td>40839</td>\n",
       "    </tr>\n",
       "    <tr>\n",
       "      <th>2</th>\n",
       "      <td>Huawei</td>\n",
       "      <td>34423</td>\n",
       "    </tr>\n",
       "  </tbody>\n",
       "</table>\n",
       "</div>"
      ],
      "text/plain": [
       "  Handset Manufacturer  Count\n",
       "0                Apple  60137\n",
       "1              Samsung  40839\n",
       "2               Huawei  34423"
      ]
     },
     "execution_count": 51,
     "metadata": {},
     "output_type": "execute_result"
    }
   ],
   "source": [
    "top_three = df['handset_manufacturer'].value_counts(ascending = False).head(3).reset_index()\n",
    "top_three = top_three.rename(columns={'index':\"Handset Manufacturer\",\"handset_manufacturer\":\"Count\"})\n",
    "top_three"
   ]
  },
  {
   "cell_type": "markdown",
   "metadata": {},
   "source": [
    "#### Top 5 handset per Handset Manufacturer"
   ]
  },
  {
   "cell_type": "code",
   "execution_count": 63,
   "metadata": {},
   "outputs": [],
   "source": [
    "top_fivemanf = df.groupby(['handset_manufacturer','handset_type'])['handset_type'].count().reset_index(name=\"count\")"
   ]
  },
  {
   "cell_type": "code",
   "execution_count": 66,
   "metadata": {},
   "outputs": [
    {
     "data": {
      "text/html": [
       "<div>\n",
       "<style scoped>\n",
       "    .dataframe tbody tr th:only-of-type {\n",
       "        vertical-align: middle;\n",
       "    }\n",
       "\n",
       "    .dataframe tbody tr th {\n",
       "        vertical-align: top;\n",
       "    }\n",
       "\n",
       "    .dataframe thead th {\n",
       "        text-align: right;\n",
       "    }\n",
       "</style>\n",
       "<table border=\"1\" class=\"dataframe\">\n",
       "  <thead>\n",
       "    <tr style=\"text-align: right;\">\n",
       "      <th></th>\n",
       "      <th>handset_manufacturer</th>\n",
       "      <th>handset_type</th>\n",
       "      <th>count</th>\n",
       "    </tr>\n",
       "  </thead>\n",
       "  <tbody>\n",
       "    <tr>\n",
       "      <th>0</th>\n",
       "      <td>A-Link Telecom International Co Limited</td>\n",
       "      <td>A-Link Telecom I. Cubot A5</td>\n",
       "      <td>1</td>\n",
       "    </tr>\n",
       "    <tr>\n",
       "      <th>1</th>\n",
       "      <td>A-Link Telecom International Co Limited</td>\n",
       "      <td>A-Link Telecom I. Cubot Note Plus</td>\n",
       "      <td>1</td>\n",
       "    </tr>\n",
       "    <tr>\n",
       "      <th>2</th>\n",
       "      <td>A-Link Telecom International Co Limited</td>\n",
       "      <td>A-Link Telecom I. Cubot Note S</td>\n",
       "      <td>1</td>\n",
       "    </tr>\n",
       "    <tr>\n",
       "      <th>3</th>\n",
       "      <td>A-Link Telecom International Co Limited</td>\n",
       "      <td>A-Link Telecom I. Cubot Nova</td>\n",
       "      <td>1</td>\n",
       "    </tr>\n",
       "    <tr>\n",
       "      <th>4</th>\n",
       "      <td>A-Link Telecom International Co Limited</td>\n",
       "      <td>A-Link Telecom I. Cubot Power</td>\n",
       "      <td>1</td>\n",
       "    </tr>\n",
       "    <tr>\n",
       "      <th>...</th>\n",
       "      <td>...</td>\n",
       "      <td>...</td>\n",
       "      <td>...</td>\n",
       "    </tr>\n",
       "    <tr>\n",
       "      <th>1382</th>\n",
       "      <td>Zte</td>\n",
       "      <td>Zte Blade A506 Blade A506 Dive 71 Orange Dive ...</td>\n",
       "      <td>1</td>\n",
       "    </tr>\n",
       "    <tr>\n",
       "      <th>1393</th>\n",
       "      <td>ZyXEL Communications Corp</td>\n",
       "      <td>Zyxel Communicat. Zyxel Wah7706</td>\n",
       "      <td>1</td>\n",
       "    </tr>\n",
       "    <tr>\n",
       "      <th>1394</th>\n",
       "      <td>Zyxel Communications Corp</td>\n",
       "      <td>Zyxel Communicat. Lte7460</td>\n",
       "      <td>1</td>\n",
       "    </tr>\n",
       "    <tr>\n",
       "      <th>1395</th>\n",
       "      <td>Zyxel Communications Corp</td>\n",
       "      <td>Zyxel Communicat. Sbg3600</td>\n",
       "      <td>1</td>\n",
       "    </tr>\n",
       "    <tr>\n",
       "      <th>1396</th>\n",
       "      <td>undefined</td>\n",
       "      <td>undefined</td>\n",
       "      <td>8987</td>\n",
       "    </tr>\n",
       "  </tbody>\n",
       "</table>\n",
       "<p>434 rows × 3 columns</p>\n",
       "</div>"
      ],
      "text/plain": [
       "                         handset_manufacturer  \\\n",
       "0     A-Link Telecom International Co Limited   \n",
       "1     A-Link Telecom International Co Limited   \n",
       "2     A-Link Telecom International Co Limited   \n",
       "3     A-Link Telecom International Co Limited   \n",
       "4     A-Link Telecom International Co Limited   \n",
       "...                                       ...   \n",
       "1382                                      Zte   \n",
       "1393                ZyXEL Communications Corp   \n",
       "1394                Zyxel Communications Corp   \n",
       "1395                Zyxel Communications Corp   \n",
       "1396                                undefined   \n",
       "\n",
       "                                           handset_type  count  \n",
       "0                            A-Link Telecom I. Cubot A5      1  \n",
       "1                     A-Link Telecom I. Cubot Note Plus      1  \n",
       "2                        A-Link Telecom I. Cubot Note S      1  \n",
       "3                          A-Link Telecom I. Cubot Nova      1  \n",
       "4                         A-Link Telecom I. Cubot Power      1  \n",
       "...                                                 ...    ...  \n",
       "1382  Zte Blade A506 Blade A506 Dive 71 Orange Dive ...      1  \n",
       "1393                    Zyxel Communicat. Zyxel Wah7706      1  \n",
       "1394                          Zyxel Communicat. Lte7460      1  \n",
       "1395                          Zyxel Communicat. Sbg3600      1  \n",
       "1396                                          undefined   8987  \n",
       "\n",
       "[434 rows x 3 columns]"
      ]
     },
     "execution_count": 66,
     "metadata": {},
     "output_type": "execute_result"
    }
   ],
   "source": [
    "top_fivemanf=top_fivemanf.sort_values(['handset_manufacturer', 'count']).groupby('handset_manufacturer').head(5)\n",
    "top_fivemanf"
   ]
  },
  {
   "cell_type": "markdown",
   "metadata": {},
   "source": [
    "####  Make a short interpretation to the marketing team \n"
   ]
  },
  {
   "cell_type": "markdown",
   "metadata": {},
   "source": [
    "     Top ten handset"
   ]
  },
  {
   "cell_type": "markdown",
   "metadata": {},
   "source": [
    "    From the list of top ten Handset we can observe that the most purchase unique Handset is *Huawei B528S-23A* is our most used handset while Apple IPhone is the most purchased in our Top ten Handset, Samsung also appear in the list as one of the top ten phone\n",
    "    "
   ]
  },
  {
   "cell_type": "markdown",
   "metadata": {},
   "source": [
    "     Recommendations\n",
    "        we should try to make our service tailored for this brands."
   ]
  },
  {
   "cell_type": "markdown",
   "metadata": {},
   "source": [
    "#### Overview of Users Behavior\n"
   ]
  },
  {
   "cell_type": "markdown",
   "metadata": {},
   "source": [
    "Bearer ID according to our data description is unique for each session, the bearer ID is our unique session identifier so to identify each session we would the bearer ID here to group them, and count them to know the total number of Unique sessions"
   ]
  },
  {
   "cell_type": "markdown",
   "metadata": {},
   "source": [
    "In this analysis we would be using MSISDN as a unique identifier for each users"
   ]
  },
  {
   "cell_type": "markdown",
   "metadata": {},
   "source": [
    "####  number of xDR sessions"
   ]
  },
  {
   "cell_type": "code",
   "execution_count": 67,
   "metadata": {},
   "outputs": [
    {
     "data": {
      "text/plain": [
       "                        991\n",
       "13042425979269199872     16\n",
       "13042425965944199168     10\n",
       "13042425972278300672      9\n",
       "13042425978774599680      9\n",
       "                       ... \n",
       "13042425959245500416      1\n",
       "13114483564761300992      1\n",
       "7277825665743110144       1\n",
       "7277825669917429760       1\n",
       "13114483555887499264      1\n",
       "Name: bearer_id, Length: 134709, dtype: int64"
      ]
     },
     "execution_count": 67,
     "metadata": {},
     "output_type": "execute_result"
    }
   ],
   "source": [
    "df['bearer_id'].value_counts()"
   ]
  },
  {
   "cell_type": "markdown",
   "metadata": {},
   "source": [
    "    There is a misnomer in the first row in our Bearer ID\n",
    "    I dropped all rows without Bearer ID, since we\n",
    "    cannot confirm if they had more than one session or not"
   ]
  },
  {
   "cell_type": "markdown",
   "metadata": {},
   "source": [
    "the total number of unique Session in our dataset is the number of unique Bearer ID"
   ]
  },
  {
   "cell_type": "code",
   "execution_count": 74,
   "metadata": {
    "scrolled": false
   },
   "outputs": [],
   "source": [
    "bearer_id = pd.DataFrame(df[['msisdn/number','bearer_id']])\n",
    "bearer_id= bearer_id.loc[bearer_id['bearer_id'] != '']"
   ]
  },
  {
   "cell_type": "code",
   "execution_count": 79,
   "metadata": {},
   "outputs": [],
   "source": [
    "NumberOfSessions=bearer_id.groupby('msisdn/number').agg({'bearer_id': 'count'}).reset_index()\n",
    "NumberOfSessions=NumberOfSessions.rename(columns= {'bearer_id': 'xDR sessions'})"
   ]
  },
  {
   "cell_type": "code",
   "execution_count": 82,
   "metadata": {
    "scrolled": true
   },
   "outputs": [
    {
     "data": {
      "text/html": [
       "<div>\n",
       "<style scoped>\n",
       "    .dataframe tbody tr th:only-of-type {\n",
       "        vertical-align: middle;\n",
       "    }\n",
       "\n",
       "    .dataframe tbody tr th {\n",
       "        vertical-align: top;\n",
       "    }\n",
       "\n",
       "    .dataframe thead th {\n",
       "        text-align: right;\n",
       "    }\n",
       "</style>\n",
       "<table border=\"1\" class=\"dataframe\">\n",
       "  <thead>\n",
       "    <tr style=\"text-align: right;\">\n",
       "      <th></th>\n",
       "      <th>msisdn/number</th>\n",
       "      <th>xDR sessions</th>\n",
       "    </tr>\n",
       "  </thead>\n",
       "  <tbody>\n",
       "    <tr>\n",
       "      <th>0</th>\n",
       "      <td>3.360100e+10</td>\n",
       "      <td>1</td>\n",
       "    </tr>\n",
       "    <tr>\n",
       "      <th>1</th>\n",
       "      <td>3.360100e+10</td>\n",
       "      <td>1</td>\n",
       "    </tr>\n",
       "    <tr>\n",
       "      <th>2</th>\n",
       "      <td>3.360100e+10</td>\n",
       "      <td>1</td>\n",
       "    </tr>\n",
       "    <tr>\n",
       "      <th>3</th>\n",
       "      <td>3.360101e+10</td>\n",
       "      <td>1</td>\n",
       "    </tr>\n",
       "    <tr>\n",
       "      <th>4</th>\n",
       "      <td>3.360101e+10</td>\n",
       "      <td>2</td>\n",
       "    </tr>\n",
       "  </tbody>\n",
       "</table>\n",
       "</div>"
      ],
      "text/plain": [
       "   msisdn/number  xDR sessions\n",
       "0   3.360100e+10             1\n",
       "1   3.360100e+10             1\n",
       "2   3.360100e+10             1\n",
       "3   3.360101e+10             1\n",
       "4   3.360101e+10             2"
      ]
     },
     "execution_count": 82,
     "metadata": {},
     "output_type": "execute_result"
    }
   ],
   "source": [
    "NumberOfSessions.head()"
   ]
  },
  {
   "cell_type": "code",
   "execution_count": 89,
   "metadata": {},
   "outputs": [
    {
     "data": {
      "text/plain": [
       "<matplotlib.axes._subplots.AxesSubplot at 0x7f9821427f40>"
      ]
     },
     "execution_count": 89,
     "metadata": {},
     "output_type": "execute_result"
    },
    {
     "data": {
      "image/png": "[encoded data removed]",
      "text/plain": [
       "<Figure size 720x432 with 1 Axes>"
      ]
     },
     "metadata": {},
     "output_type": "display_data"
    }
   ],
   "source": [
    "plt.subplots(figsize=(10, 6))\n",
    "sns.distplot(NumberOfSessions[\"xDR sessions\"], hist=True )"
   ]
  },
  {
   "cell_type": "markdown",
   "metadata": {},
   "source": [
    "#### Session Duration"
   ]
  },
  {
   "cell_type": "code",
   "execution_count": 90,
   "metadata": {
    "scrolled": true
   },
   "outputs": [
    {
     "data": {
      "text/html": [
       "<div>\n",
       "<style scoped>\n",
       "    .dataframe tbody tr th:only-of-type {\n",
       "        vertical-align: middle;\n",
       "    }\n",
       "\n",
       "    .dataframe tbody tr th {\n",
       "        vertical-align: top;\n",
       "    }\n",
       "\n",
       "    .dataframe thead th {\n",
       "        text-align: right;\n",
       "    }\n",
       "</style>\n",
       "<table border=\"1\" class=\"dataframe\">\n",
       "  <thead>\n",
       "    <tr style=\"text-align: right;\">\n",
       "      <th></th>\n",
       "      <th>msisdn/number</th>\n",
       "      <th>dur._(ms).1</th>\n",
       "    </tr>\n",
       "  </thead>\n",
       "  <tbody>\n",
       "    <tr>\n",
       "      <th>0</th>\n",
       "      <td>3.360100e+10</td>\n",
       "      <td>116720140.0</td>\n",
       "    </tr>\n",
       "    <tr>\n",
       "      <th>1</th>\n",
       "      <td>3.360100e+10</td>\n",
       "      <td>181230963.0</td>\n",
       "    </tr>\n",
       "    <tr>\n",
       "      <th>2</th>\n",
       "      <td>3.360100e+10</td>\n",
       "      <td>134969374.0</td>\n",
       "    </tr>\n",
       "    <tr>\n",
       "      <th>3</th>\n",
       "      <td>3.360101e+10</td>\n",
       "      <td>49878024.0</td>\n",
       "    </tr>\n",
       "    <tr>\n",
       "      <th>4</th>\n",
       "      <td>3.360101e+10</td>\n",
       "      <td>37104453.0</td>\n",
       "    </tr>\n",
       "  </tbody>\n",
       "</table>\n",
       "</div>"
      ],
      "text/plain": [
       "   msisdn/number  dur._(ms).1\n",
       "0   3.360100e+10  116720140.0\n",
       "1   3.360100e+10  181230963.0\n",
       "2   3.360100e+10  134969374.0\n",
       "3   3.360101e+10   49878024.0\n",
       "4   3.360101e+10   37104453.0"
      ]
     },
     "execution_count": 90,
     "metadata": {},
     "output_type": "execute_result"
    }
   ],
   "source": [
    "SessionDuration =df.groupby('msisdn/number').agg({'dur._(ms).1': 'sum'}).reset_index()\n",
    "#here is the duration for first five rows in our dataset\n",
    "\n",
    "SessionDuration.head()"
   ]
  },
  {
   "cell_type": "code",
   "execution_count": null,
   "metadata": {},
   "outputs": [],
   "source": [
    "SessionDuration['dur._(ms).1'].describe()"
   ]
  },
  {
   "cell_type": "code",
   "execution_count": null,
   "metadata": {},
   "outputs": [],
   "source": [
    "SessionDuration['dur._(ms).1'].value_counts("
   ]
  },
  {
   "cell_type": "code",
   "execution_count": null,
   "metadata": {},
   "outputs": [],
   "source": [
    "SessionDuration.describe().T"
   ]
  },
  {
   "cell_type": "code",
   "execution_count": null,
   "metadata": {
    "scrolled": true
   },
   "outputs": [],
   "source": [
    "sns.boxplot(SessionDuration[\"dur._(ms).1\"])"
   ]
  },
  {
   "cell_type": "code",
   "execution_count": null,
   "metadata": {},
   "outputs": [],
   "source": [
    "plt.hist(SessionDuration[\"dur._(ms).1\"])"
   ]
  },
  {
   "cell_type": "code",
   "execution_count": null,
   "metadata": {},
   "outputs": [],
   "source": [
    "SessionDuration.describe().T"
   ]
  },
  {
   "cell_type": "code",
   "execution_count": null,
   "metadata": {},
   "outputs": [],
   "source": [
    "UpDownload_user = df[['msisdn/number','total_ul_(bytes)','total_dl_(bytes)']]\n",
    "UpDownload_user = UpDownload_user.groupby('msisdn/number').sum().reset_index()\n",
    "UpDownload_user.drop(['msisdn/number'], axis=1, inplace=True)\n",
    "UpDownload_user.describe()"
   ]
  },
  {
   "cell_type": "code",
   "execution_count": null,
   "metadata": {},
   "outputs": [],
   "source": [
    "UpDownload_user"
   ]
  },
  {
   "cell_type": "code",
   "execution_count": null,
   "metadata": {},
   "outputs": [],
   "source": [
    "fig, ax = plt.subplots(1,3, figsize=(30, 10))\n",
    "ax[0].hist(total_updown);\n",
    "sns.boxplot(UpDownload_user[\"Applications UL/DL (bytes)\"],ax=ax[1]);\n",
    "ax[0].title.set_text('Histogram showing the Total  Data Usage by all Applications in Bytes')\n",
    "ax[1].title.set_text('Box Plot showing the Total Data Usage by all Applications in Bytes')\n",
    "ax[2].title.set_text('Distribution Plot showing the Total Data Usage  by all Applications in Bytes')\n",
    "sns.distplot(total_updown[\"Applications UL/DL (bytes)\"], ax=ax[2]);\n",
    "fig.savefig('Applications.jpeg')"
   ]
  },
  {
   "cell_type": "code",
   "execution_count": null,
   "metadata": {},
   "outputs": [],
   "source": [
    "total_updown['Applications UL/DL (bytes)'].describe()"
   ]
  },
  {
   "cell_type": "code",
   "execution_count": null,
   "metadata": {},
   "outputs": [],
   "source": []
  },
  {
   "cell_type": "code",
   "execution_count": null,
   "metadata": {},
   "outputs": [],
   "source": [
    "applicationDownUp =df[['social_media_dl_(bytes)','social_media_ul_(bytes)', 'google_dl_(bytes)',\n",
    "                        'google_ul_(bytes)', 'email_dl_(bytes)', 'email_ul_(bytes)', 'youtube_dl_(bytes)',\n",
    "                        'youtube_ul_(bytes)','netflix_dl_(bytes)', 'netflix_ul_(bytes)', 'gaming_dl_(bytes)',\n",
    "                        'gaming_ul_(bytes)','other_dl_(bytes)', 'other_ul_(bytes)']]\n",
    "total_updown = pd.DataFrame()\n",
    "total_updown[\"social_media_total(bytes)\"] = df[\"social_media_dl_(bytes)\"] + df['social_media_ul_(bytes)']\n",
    "total_updown[\"google_total(bytes)\"] = df[\"google_dl_(bytes)\"] + df[\"google_ul_(bytes)\"]\n",
    "total_updown['email_total(bytes)'] = df[\"email_dl_(bytes)\"] + df[\"email_ul_(bytes)\"]\n",
    "total_updown['youtube_total(bytes)'] = df[\"youtube_dl_(bytes)\"] + df[\"youtube_ul_(bytes)\"]\n",
    "total_updown['netflix_total(bytes)'] = df[\"netflix_dl_(bytes)\"] + df[\"netflix_ul_(bytes)\"]\n",
    "total_updown[\"gaming_total(bytes)\"] = df[\"gaming_dl_(bytes)\"] + df[\"gaming_ul_(bytes)\"]\n",
    "total_updown['other_total(bytes)']=df[\"other_dl_(bytes)\"]+df[\"other_ul_(bytes)\"]"
   ]
  },
  {
   "cell_type": "code",
   "execution_count": null,
   "metadata": {},
   "outputs": [],
   "source": [
    "total_updown[\"Total Applications (bytes)\"]= total_updown['social_media_total(bytes)'] + total_updown['google_total(bytes)']+ total_updown['email_total(bytes)']+ total_updown['youtube_total(bytes)']+ total_updown['netflix_total(bytes)']+ total_updown['gaming_total(bytes)']+ total_updown['other_total(bytes)']"
   ]
  },
  {
   "cell_type": "markdown",
   "metadata": {},
   "source": [
    "The public IP has basic \n",
    "Public IP and assignment\n",
    "There are two different types of Public IP address \n",
    "Dynamic which is created after the resource\n",
    "Static Address is created before the resource and do not change\n",
    "\n",
    "Private IP are assigned with Vnet\n",
    "The are assigned for Internal load balancer, Application Gateway\n",
    "Type Private Static and Dynamic \n",
    "We never \n",
    "\n",
    "DHCP \n",
    "Azure controls this totally"
   ]
  },
  {
   "cell_type": "code",
   "execution_count": null,
   "metadata": {
    "scrolled": true
   },
   "outputs": [],
   "source": [
    "total_updown.describe().T"
   ]
  },
  {
   "cell_type": "code",
   "execution_count": null,
   "metadata": {},
   "outputs": [],
   "source": [
    "new = pd.DataFrame(total_updown.sum(axis=0, skipna=True))"
   ]
  },
  {
   "cell_type": "code",
   "execution_count": null,
   "metadata": {},
   "outputs": [],
   "source": [
    "new =new.reset_index()"
   ]
  },
  {
   "cell_type": "code",
   "execution_count": null,
   "metadata": {},
   "outputs": [],
   "source": [
    "new= new.rename(columns={'index':\"Applications\",0:\"Sum\"})"
   ]
  },
  {
   "cell_type": "code",
   "execution_count": null,
   "metadata": {},
   "outputs": [],
   "source": [
    "new = new[:7]\n"
   ]
  },
  {
   "cell_type": "code",
   "execution_count": null,
   "metadata": {},
   "outputs": [],
   "source": [
    "new"
   ]
  },
  {
   "cell_type": "code",
   "execution_count": null,
   "metadata": {},
   "outputs": [],
   "source": [
    "plt.figure(figsize=(10,8))\n",
    "ax = sns.barplot(x=\"Applications\", y=\"Sum\", data=new)\n",
    "plt.xticks(rotation=45)\n",
    "plt.title(\"A Bar plot showing the data consumption for each Applications\",fontsize = 12, fontweight= \"bold\")\n",
    "plt.xticks(fontsize = 10, fontweight= \"bold\")\n",
    "plt.tight_layout()\n",
    "plt.savefig(\"totaL.jpeg\")"
   ]
  },
  {
   "cell_type": "code",
   "execution_count": null,
   "metadata": {},
   "outputs": [],
   "source": [
    "fig, ax = plt.subplots(1,3, figsize=(20, 10))\n",
    "ax[0].hist(total_updown['social_media_total(bytes)','netflix_total(bytes)']);\n",
    "ax[0].title.set_text('Histogram showing the Total Social Media Data Usage in Bytes')\n",
    "ax[1].title.set_text('Box Plot showing the Total Social Media Data Usage in Bytes')\n",
    "ax[1] =sns.boxplot(total_updown[['social_media_total(bytes)','netflix_total(bytes)']]);\n",
    "fig.savefig('full_figure.png')"
   ]
  },
  {
   "cell_type": "code",
   "execution_count": null,
   "metadata": {},
   "outputs": [],
   "source": [
    "print(\"Kurtosis for Duration of Call is\", pd.DataFrame(total_updown[\"Total Applications (bytes)\"]).kurtosis()[0], \"Skewedness of Duration of call is\",\n",
    "      pd.DataFrame(total_updown[\"Total Applications (bytes)\"]).skew()[0],\n",
    "    sep='\\n'\n",
    ")"
   ]
  },
  {
   "cell_type": "code",
   "execution_count": null,
   "metadata": {},
   "outputs": [],
   "source": [
    "total_updown[\"Total Applications (bytes)\"] = total_updown[\"Total Applications (bytes)\"].astype(\"int16\")"
   ]
  },
  {
   "cell_type": "code",
   "execution_count": null,
   "metadata": {},
   "outputs": [],
   "source": [
    "fig, ax = plt.subplots(1,3, figsize=(30, 10))\n",
    "ax[0].hist(total_updown);\n",
    "sns.boxplot(total_updown[\"Total Applications (bytes)\"],ax=ax[1]);\n",
    "ax[0].title.set_text('Histogram showing the Total  Data Usage by all Applications in Bytes')\n",
    "ax[1].title.set_text('Box Plot showing the Total Data Usage by all Applications in Bytes')\n",
    "ax[2].title.set_text('Distribution Plot showing the Total Data Usage  by all Applications in Bytes')\n",
    "sns.distplot(total_updown[\"Total Applications (bytes)\"], ax=ax[2]);\n",
    "fig.savefig('Applications.jpeg')"
   ]
  },
  {
   "cell_type": "code",
   "execution_count": null,
   "metadata": {},
   "outputs": [],
   "source": [
    "print(\"Kurtosis for Duration of Call is\", pd.DataFrame(total_updown[\"google_total(bytes)\"]).kurtosis()[0], \"Skewedness of Duration of call is\",\n",
    "      pd.DataFrame(total_updown[\"google_total(bytes)\"]).skew()[0],\n",
    "    sep='\\n'\n",
    ")"
   ]
  },
  {
   "cell_type": "code",
   "execution_count": null,
   "metadata": {},
   "outputs": [],
   "source": [
    "fig, ax = plt.subplots(1,3, figsize=(30, 10))\n",
    "ax[0].hist(total_updown[\"Total Applications (bytes)\"]);\n",
    "sns.boxplot(total_updown[\"Total Applications (bytes)\"], ax=ax[1]);\n",
    "ax[0].title.set_text('Histogram showing the Total  Data Usage by all Applications in Bytes')\n",
    "ax[1].title.set_text('Box Plot showing the Total Data Usage by all Applications in Bytes')\n",
    "ax[2].title.set_text('Distribution Plot showing the Total Data Usage  by all Applications in Bytes')\n",
    "sns.distplot(total_updown[\"Total Applications (bytes)\"], ax=ax[2]);\n",
    "fig.savefig('Applications.jpeg')"
   ]
  },
  {
   "cell_type": "code",
   "execution_count": null,
   "metadata": {},
   "outputs": [],
   "source": [
    "print(\"Kurtosis for Duration of Call is\", pd.DataFrame(total_updown[\"email_total(bytes)\"]).kurtosis()[0], \"Skewedness of Duration of call is\",\n",
    "      pd.DataFrame(total_updown[\"email_total(bytes)\"]).skew()[0],\n",
    "    sep='\\n'\n",
    ")"
   ]
  },
  {
   "cell_type": "code",
   "execution_count": null,
   "metadata": {},
   "outputs": [],
   "source": [
    "fig, ax = plt.subplots(1,3, figsize=(30, 10))\n",
    "ax[0].hist(total_updown[\"youtube_total(bytes)\"]);\n",
    "sns.boxplot(total_updown[\"youtube_total(bytes)\"], ax=ax[1]);\n",
    "ax[0].title.set_text('Histogram showing the Total  Data Usage on Youtube in Bytes')\n",
    "ax[1].title.set_text('Box Plot showing the Total Data Usage on Youtube in Bytes')\n",
    "ax[2].title.set_text('Distribution Plot showing the Total Data Usage on Youtube in Bytes')\n",
    "sns.distplot(total_updown[\"youtube_total(bytes)\"], ax=ax[2]);\n",
    "fig.savefig('Youtube.jpeg')"
   ]
  },
  {
   "cell_type": "code",
   "execution_count": null,
   "metadata": {},
   "outputs": [],
   "source": [
    "print(\"Kurtosis for the total Upload/Download is\", pd.DataFrame(total_updown[\"youtube_total(bytes)\"]).kurtosis()[0], \"Skewedness of Duration of call is\",\n",
    "      pd.DataFrame(total_updown[\"youtube_total(bytes)\"]).skew()[0],\n",
    "    sep='\\n'\n",
    ")"
   ]
  },
  {
   "cell_type": "code",
   "execution_count": null,
   "metadata": {
    "scrolled": true
   },
   "outputs": [],
   "source": [
    "fig, ax = plt.subplots(1,3, figsize=(30, 10))\n",
    "ax[0].hist(total_updown[\"netflix_total(bytes)\"]);\n",
    "sns.boxplot(total_updown[\"netflix_total(bytes)\"], ax=ax[1]);\n",
    "ax[0].title.set_text('Histogram showing the Total Netflix Data Usage in Bytes')\n",
    "ax[1].title.set_text('Box Plot showing the Total Netflix Data Usage in Bytes')\n",
    "ax[2].title.set_text('Distribution Plot showing the Total Netflix Data Usage in Bytes')\n",
    "sns.distplot(total_updown[\"netflix_total(bytes)\"], ax=ax[2]);\n",
    "fig.savefig('netflix.jpeg')"
   ]
  },
  {
   "cell_type": "code",
   "execution_count": null,
   "metadata": {
    "scrolled": true
   },
   "outputs": [],
   "source": [
    "print(\"Kurtosis for the total Upload/Download is\", pd.DataFrame(total_updown[\"netflix_total(bytes)\"]).kurtosis()[0], \"Skewedness of Duration of call is\",\n",
    "      pd.DataFrame(total_updown[\"netflix_total(bytes)\"]).skew()[0],\n",
    "    sep='\\n'\n",
    ")\n"
   ]
  },
  {
   "cell_type": "code",
   "execution_count": null,
   "metadata": {},
   "outputs": [],
   "source": []
  },
  {
   "cell_type": "code",
   "execution_count": null,
   "metadata": {},
   "outputs": [],
   "source": [
    "email_total(bytes) \t106,856.00 \t3,148,795.81 \t2,222,400.10 \t18,176.00 \t1,674,481.00 \t2,799,824.50 \t3,847,197.50 \t42,418,782.00\n",
    "youtube_total(bytes) \t106,856.00 \t31,558,399.28 \t21,294,917.68 \t78,903.00 \t18,631,088.50 \t26,800,376.00 \t37,927,975.75 \t452,958,769.00\n",
    "netflix_total(bytes) \t106,856.00 \t31,538,332.31 \t21,289,556.97 \t184,569.00 \t18,555,972.75 \t26,718,889.50 \t37,976,957.00 \t399,519,079.00\n",
    "gaming_total(bytes) \t106,856.00 \t599,769,010.72 \t449,150,462.40 \t306,358.00 \t288,063,112.50 \t542,349,206.50 \t777,304,138.00 \t7,749,432,234.00\n",
    "other_total(bytes)"
   ]
  },
  {
   "cell_type": "code",
   "execution_count": null,
   "metadata": {},
   "outputs": [],
   "source": []
  },
  {
   "cell_type": "code",
   "execution_count": null,
   "metadata": {},
   "outputs": [],
   "source": []
  },
  {
   "cell_type": "code",
   "execution_count": null,
   "metadata": {},
   "outputs": [],
   "source": []
  },
  {
   "cell_type": "code",
   "execution_count": null,
   "metadata": {},
   "outputs": [],
   "source": []
  },
  {
   "cell_type": "code",
   "execution_count": null,
   "metadata": {},
   "outputs": [],
   "source": []
  },
  {
   "cell_type": "code",
   "execution_count": null,
   "metadata": {},
   "outputs": [],
   "source": []
  },
  {
   "cell_type": "code",
   "execution_count": null,
   "metadata": {},
   "outputs": [],
   "source": []
  },
  {
   "cell_type": "markdown",
   "metadata": {},
   "source": [
    "Here is my analysis on the Social Media Byte, "
   ]
  },
  {
   "cell_type": "markdown",
   "metadata": {},
   "source": [
    "Conduct a Non-Graphical Univariate Analysis by computing position & dispersion parameters for each quantitative variable and provide useful interpretation.(jupyter notebook)"
   ]
  },
  {
   "cell_type": "code",
   "execution_count": null,
   "metadata": {
    "scrolled": true
   },
   "outputs": [],
   "source": [
    "df.describe().T"
   ]
  },
  {
   "cell_type": "code",
   "execution_count": null,
   "metadata": {
    "scrolled": false
   },
   "outputs": [],
   "source": [
    "df[\"Dur._(ms)\"].describe()"
   ]
  },
  {
   "cell_type": "code",
   "execution_count": null,
   "metadata": {},
   "outputs": [],
   "source": [
    "print(df[\"dur._(ms).1\"].describe())\n",
    "ax= sns.distplot(df[\"dur._(ms).1\"]);"
   ]
  },
  {
   "cell_type": "code",
   "execution_count": null,
   "metadata": {},
   "outputs": [],
   "source": [
    "ax= plt.hist(df[\"Dur._(ms)\"])"
   ]
  },
  {
   "cell_type": "code",
   "execution_count": null,
   "metadata": {
    "scrolled": true
   },
   "outputs": [],
   "source": [
    "ax = sns.boxplot(x=df[\"Dur._(ms)\"])\n",
    "print(\"Kurtosis for Duration of Call is\", pd.DataFrame(x).kurtosis()[0], \"Skewedness of Duration of call is\",\n",
    "      pd.DataFrame(x).skew()[0],\n",
    "    sep='\\n'\n",
    ")"
   ]
  },
  {
   "cell_type": "code",
   "execution_count": null,
   "metadata": {
    "scrolled": true
   },
   "outputs": [],
   "source": [
    "print(\"Kurtosis for Duration of Call is\", pd.DataFrame(x).kurtosis()[0], \"Skewedness of Duration of call is\",\n",
    "      pd.DataFrame(x).skew()[0],\n",
    "    sep='\\n'\n",
    ")"
   ]
  },
  {
   "cell_type": "markdown",
   "metadata": {},
   "source": [
    "#### The Univariate Analysis for Average Round Trip Time measurement Downlink direction (msecond)"
   ]
  },
  {
   "cell_type": "code",
   "execution_count": null,
   "metadata": {
    "scrolled": true
   },
   "outputs": [],
   "source": [
    "df['Avg_RTT_DL_(ms)'].value_counts()"
   ]
  },
  {
   "cell_type": "code",
   "execution_count": null,
   "metadata": {},
   "outputs": [],
   "source": [
    "ax= sns.distplot(df[\"Avg_RTT_DL_(ms)\"])"
   ]
  },
  {
   "cell_type": "code",
   "execution_count": null,
   "metadata": {},
   "outputs": [],
   "source": [
    "ax= plt.hist(df[\"Avg_RTT_DL_(ms)\"])"
   ]
  },
  {
   "cell_type": "code",
   "execution_count": null,
   "metadata": {},
   "outputs": [],
   "source": [
    "ax = sns.boxplot(df[\"Avg_RTT_DL_(ms)\"])"
   ]
  },
  {
   "cell_type": "code",
   "execution_count": null,
   "metadata": {},
   "outputs": [],
   "source": [
    "print(\"Kurtosis for Duration of Call is\", pd.DataFrame(df[\"Avg_RTT_DL_(ms)\"]).kurtosis()[0], \"Skewedness of Duration of call is\",\n",
    "      pd.DataFrame(df[\"Avg_RTT_DL_(ms)\"]).skew()[0],\n",
    "    sep='\\n'\n",
    ")"
   ]
  },
  {
   "cell_type": "code",
   "execution_count": null,
   "metadata": {},
   "outputs": [],
   "source": []
  },
  {
   "cell_type": "code",
   "execution_count": null,
   "metadata": {},
   "outputs": [],
   "source": []
  },
  {
   "cell_type": "code",
   "execution_count": null,
   "metadata": {},
   "outputs": [],
   "source": []
  },
  {
   "cell_type": "code",
   "execution_count": null,
   "metadata": {},
   "outputs": [],
   "source": []
  },
  {
   "cell_type": "code",
   "execution_count": null,
   "metadata": {},
   "outputs": [],
   "source": []
  },
  {
   "cell_type": "code",
   "execution_count": null,
   "metadata": {},
   "outputs": [],
   "source": [
    "df[[\"Social_Media_DL_(Bytes)\",\"Social_Media_UL_(Bytes)\",\"Google_DL_(Bytes)\",\"Google_UL_(Bytes)\",\"Email_DL_(Bytes)\",\"Email_UL_(Bytes)\",\"Youtube_DL_(Bytes)\",\"Youtube_UL_(Bytes)\",\"Netflix_DL_(Bytes)\",\"Netflix_UL_(Bytes)\",\"Gaming_DL_(Bytes)\",\"Gaming_UL_(Bytes)\",\"Other_DL_(Bytes)\",\"Other_UL_(Bytes)\"]]"
   ]
  },
  {
   "cell_type": "markdown",
   "metadata": {},
   "source": [
    "#### Variable transformations – segment the users into top five decile classes based on the total duration for all sessions and compute the total data (DL+UL) per decile class. "
   ]
  },
  {
   "cell_type": "code",
   "execution_count": null,
   "metadata": {},
   "outputs": [],
   "source": [
    "df.head()"
   ]
  },
  {
   "cell_type": "code",
   "execution_count": null,
   "metadata": {},
   "outputs": [],
   "source": [
    "df_duration = df2[['MSISDN/Number','Dur._(ms)','Total_UL_(Bytes)','Total_DL_(Bytes)']]"
   ]
  },
  {
   "cell_type": "code",
   "execution_count": null,
   "metadata": {},
   "outputs": [],
   "source": [
    "df2.head()"
   ]
  },
  {
   "cell_type": "code",
   "execution_count": null,
   "metadata": {},
   "outputs": [],
   "source": [
    "df_duration['Dur._(ms)']= df['Dur._(ms).1']"
   ]
  },
  {
   "cell_type": "code",
   "execution_count": null,
   "metadata": {},
   "outputs": [],
   "source": [
    "df_duration"
   ]
  },
  {
   "cell_type": "code",
   "execution_count": null,
   "metadata": {
    "scrolled": true
   },
   "outputs": [],
   "source": [
    "df_duration['decile']=pd.qcut(df_duration['Dur._(ms)'], q=10, labels=False)"
   ]
  },
  {
   "cell_type": "code",
   "execution_count": null,
   "metadata": {},
   "outputs": [],
   "source": [
    "df_duration"
   ]
  },
  {
   "cell_type": "code",
   "execution_count": null,
   "metadata": {},
   "outputs": [],
   "source": [
    "df['decile']"
   ]
  },
  {
   "cell_type": "code",
   "execution_count": null,
   "metadata": {},
   "outputs": [],
   "source": []
  },
  {
   "cell_type": "code",
   "execution_count": null,
   "metadata": {},
   "outputs": [],
   "source": []
  },
  {
   "cell_type": "code",
   "execution_count": null,
   "metadata": {},
   "outputs": [],
   "source": []
  }
 ],
 "metadata": {
  "kernelspec": {
   "display_name": "Python 3.8.2 64-bit",
   "language": "python",
   "name": "python38264bita29ee28c41394fccafaa8b30a5cd782b"
  }
 },
 "nbformat": 4,
 "nbformat_minor": 4
}
